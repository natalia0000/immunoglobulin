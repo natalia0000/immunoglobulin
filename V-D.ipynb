{
 "cells": [
  {
   "cell_type": "code",
   "execution_count": 2,
   "metadata": {},
   "outputs": [],
   "source": [
    "from scipy.stats import binom\n",
    "from random import choice\n",
    "from random import choices\n",
    "from random import random\n",
    "from Bio.Seq import reverse_complement\n",
    "from Bio.Seq import complement"
   ]
  },
  {
   "cell_type": "code",
   "execution_count": 3,
   "metadata": {},
   "outputs": [
    {
     "name": "stdout",
     "output_type": "stream",
     "text": [
      "Введите вероятность для биномиального распределения остановки Артемиды:\n",
      "0.5\n"
     ]
    }
   ],
   "source": [
    "n = 2\n",
    "print(\"Введите вероятность для биномиального распределения остановки Артемиды:\")\n",
    "p = float(input())"
   ]
  },
  {
   "cell_type": "code",
   "execution_count": 4,
   "metadata": {},
   "outputs": [
    {
     "name": "stdout",
     "output_type": "stream",
     "text": [
      "2\n"
     ]
    }
   ],
   "source": [
    "DNA_pk = binom.rvs(n, p, 1)\n",
    "print(DNA_pk)"
   ]
  },
  {
   "cell_type": "code",
   "execution_count": 16,
   "metadata": {},
   "outputs": [
    {
     "name": "stdout",
     "output_type": "stream",
     "text": [
      "AGA\n",
      "CTA\n"
     ]
    }
   ],
   "source": [
    "S_1 = []\n",
    "S_2 = []\n",
    "for i in range(DNA_pk+1):\n",
    "    S_1.append(choice(['A', 'C', 'T', 'G']))\n",
    "    S_2.append(choice(['A', 'C', 'T', 'G']))\n",
    "S_1 = ''.join(S_1)\n",
    "S_2 = ''.join(S_2)\n",
    "print(S_1)\n",
    "print(S_2)"
   ]
  },
  {
   "cell_type": "code",
   "execution_count": 17,
   "metadata": {
    "scrolled": true
   },
   "outputs": [
    {
     "name": "stdout",
     "output_type": "stream",
     "text": [
      "AGATC\n",
      "CTATA\n"
     ]
    }
   ],
   "source": [
    "S_1 = S_1 + reverse_complement(S_1[1:(DNA_pk+1)])\n",
    "S_2 = S_2 + reverse_complement(S_2[1:(DNA_pk+1)])\n",
    "print(S_1)\n",
    "print(S_2)"
   ]
  },
  {
   "cell_type": "code",
   "execution_count": 7,
   "metadata": {},
   "outputs": [
    {
     "name": "stdout",
     "output_type": "stream",
     "text": [
      "Введите вероятность того, что хватит двух комплементарных нуклеотидов подряд, чтобы соединить цепочки:\n",
      "0.7\n",
      "Введите вероятность того, что нуклеотиды пристраиваются к первой цепочке:\n",
      "0.5\n"
     ]
    }
   ],
   "source": [
    "print(\"Введите вероятность того, что хватит двух комплементарных нуклеотидов подряд, чтобы соединить цепочки:\")\n",
    "p_compl = float(input())\n",
    "print(\"Введите вероятность того, что нуклеотиды пристраиваются к первой цепочке:\")\n",
    "p_number_seq = float(input())\n"
   ]
  },
  {
   "cell_type": "code",
   "execution_count": 18,
   "metadata": {},
   "outputs": [
    {
     "name": "stdout",
     "output_type": "stream",
     "text": [
      "3\n"
     ]
    }
   ],
   "source": [
    "if random() < p_compl:\n",
    "    count_nukl = 2\n",
    "else:\n",
    "    count_nukl = 3\n",
    "print(count_nukl)"
   ]
  },
  {
   "cell_type": "code",
   "execution_count": 19,
   "metadata": {},
   "outputs": [
    {
     "name": "stdout",
     "output_type": "stream",
     "text": [
      "{'ATC': 2}\n",
      "{'CTA': 2}\n"
     ]
    }
   ],
   "source": [
    "version_for_1 = {}\n",
    "version_for_2 = {}\n",
    "if count_nukl == 2:\n",
    "    version_for_1[S_1[-2:]] = len(S_1)-2\n",
    "    version_for_2[S_2[:2]] = len(S_2)-2\n",
    "else:\n",
    "    version_for_1[S_1[-3:]] = len(S_1)-3\n",
    "    version_for_2[S_2[:3]] = len(S_2)-3\n",
    "print(version_for_1)\n",
    "print(version_for_2)"
   ]
  },
  {
   "cell_type": "code",
   "execution_count": 20,
   "metadata": {},
   "outputs": [
    {
     "name": "stdout",
     "output_type": "stream",
     "text": [
      "AGATC CCTATA\n",
      "AGATCT CCTATA\n",
      "AGATCTG CCTATA\n",
      "AGATCTGC CCTATA\n",
      "AGATCTGCC CCTATA\n",
      "AGATCTGCC ACCTATA\n",
      "AGATCTGCC GACCTATA\n",
      "{'ATC': 2, 'TCT': 3, 'CTG': 4, 'TGC': 5, 'GCC': 6} {'CTA': 2, 'CCT': 3, 'ACC': 4, 'GAC': 5}\n",
      "AGATCTGCC GACCTATA AGATCTGGATAT\n"
     ]
    }
   ],
   "source": [
    "if count_nukl == 2:\n",
    "    while (version_for_2.get(complement(S_1[-2:])) == None) and (version_for_1.get(complement(S_2[:2])) == None):\n",
    "        if random() < p_number_seq:\n",
    "            S_1 = S_1 + choice(['A', 'C', 'T', 'G'])\n",
    "            version_for_1[S_1[-2:]] = len(S_1)-2\n",
    "        else:\n",
    "            S_2 = choice(['A', 'C', 'T', 'G']) + S_2\n",
    "            version_for_2[S_2[:2]] = len(S_2)-2\n",
    "        print(S_1, S_2)\n",
    "        \n",
    "    if version_for_2.get(complement(S_1[-2:])) != None:\n",
    "        index = version_for_2.get(complement(S_1[-2:]))\n",
    "        S = S_1 + complement(S_2[(-index-1):])\n",
    "        \n",
    "    else:\n",
    "        index = version_for_1.get(complement(S_2[:2]))\n",
    "        S = S_1[:index] + complement(S_2)\n",
    "        \n",
    "else:\n",
    "    while (version_for_2.get(complement(S_1[-3:])) == None) and (version_for_1.get(complement(S_2[:3])) == None):\n",
    "        if random() < p_number_seq:\n",
    "            S_1 = S_1 + choice(['A', 'C', 'T', 'G'])\n",
    "            version_for_1[S_1[-3:]] = len(S_1)-3\n",
    "        else:\n",
    "            S_2 = choice(['A', 'C', 'T', 'G']) + S_2\n",
    "            version_for_2[S_2[:3]] = len(S_2)-3\n",
    "        print(S_1, S_2)\n",
    "        \n",
    "    if version_for_2.get(complement(S_1[-3:])) != None:\n",
    "        index = version_for_2.get(complement(S_1[-3:]))\n",
    "        S = S_1 + complement(S_2[(-index-1):])\n",
    "        \n",
    "    else:\n",
    "        index = version_for_1.get(complement(S_2[:3]))\n",
    "        S = S_1[:index] + complement(S_2)\n",
    "        \n",
    "print(version_for_1, version_for_2)\n",
    "print(S_1, S_2, S)"
   ]
  },
  {
   "cell_type": "code",
   "execution_count": null,
   "metadata": {},
   "outputs": [],
   "source": []
  }
 ],
 "metadata": {
  "kernelspec": {
   "display_name": "Python 3",
   "language": "python",
   "name": "python3"
  },
  "language_info": {
   "codemirror_mode": {
    "name": "ipython",
    "version": 3
   },
   "file_extension": ".py",
   "mimetype": "text/x-python",
   "name": "python",
   "nbconvert_exporter": "python",
   "pygments_lexer": "ipython3",
   "version": "3.7.3"
  }
 },
 "nbformat": 4,
 "nbformat_minor": 2
}
